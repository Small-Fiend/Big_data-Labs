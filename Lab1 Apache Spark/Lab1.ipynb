{
 "cells": [
  {
   "cell_type": "markdown",
   "source": [
    "Рудинская Елизавета, группа 6132-010402D\r\n",
    "\r\n",
    "Лабораторная № 1"
   ],
   "metadata": {}
  },
  {
   "cell_type": "markdown",
   "source": [
    "#### Задание на лабораторную работу \r\n",
    "##### Решите следующие задачи для данных велопарковок Сан-Франциско (trips.csv, stations.csv):\r\n",
    "1. Найти велосипед с максимальным временем пробега.\r\n",
    "2. Найти наибольшее геодезическое расстояние между станциями.\r\n",
    "3. Найти путь велосипеда с максимальным временем пробега через станции.\r\n",
    "4. Найти количество велосипедов в системе.\r\n",
    "5. Найти пользователей потративших на поездки более 3 часов."
   ],
   "metadata": {}
  },
  {
   "cell_type": "code",
   "execution_count": 1,
   "source": [
    "#pip install pyspark\r\n",
    "# pip install numpy\r\n",
    "#! pip install pandas"
   ],
   "outputs": [],
   "metadata": {}
  },
  {
   "cell_type": "code",
   "execution_count": 5,
   "source": [
    "from pyspark import SparkContext, SparkConf\r\n",
    "\r\n",
    "from typing import NamedTuple\r\n",
    "from datetime import datetime\r\n",
    "\r\n",
    "import pandas as pd\r\n",
    "import os\r\n",
    "import numpy as np"
   ],
   "outputs": [],
   "metadata": {}
  },
  {
   "cell_type": "code",
   "execution_count": 3,
   "source": [
    "# настройка конфигурации\r\n",
    "conf = SparkConf().setAppName(\"L1_interactive_bike_analysis\").setMaster('yarn')"
   ],
   "outputs": [],
   "metadata": {}
  },
  {
   "cell_type": "code",
   "execution_count": 4,
   "source": [
    "sc = SparkContext(conf=conf)"
   ],
   "outputs": [],
   "metadata": {}
  },
  {
   "cell_type": "code",
   "execution_count": 6,
   "source": [
    "sc"
   ],
   "outputs": [
    {
     "output_type": "execute_result",
     "data": {
      "text/html": [
       "\n",
       "        <div>\n",
       "            <p><b>SparkContext</b></p>\n",
       "\n",
       "            <p><a href=\"http://n1.maapr.xyz:4043\">Spark UI</a></p>\n",
       "\n",
       "            <dl>\n",
       "              <dt>Version</dt>\n",
       "                <dd><code>v3.1.2.0-eep-800</code></dd>\n",
       "              <dt>Master</dt>\n",
       "                <dd><code>yarn</code></dd>\n",
       "              <dt>AppName</dt>\n",
       "                <dd><code>L1_interactive_bike_analysis</code></dd>\n",
       "            </dl>\n",
       "        </div>\n",
       "        "
      ],
      "text/plain": [
       "<SparkContext master=yarn appName=L1_interactive_bike_analysis>"
      ]
     },
     "metadata": {},
     "execution_count": 6
    }
   ],
   "metadata": {}
  },
  {
   "cell_type": "code",
   "execution_count": 7,
   "source": [
    "sc.parallelize([1,2,3,4,5,6]).map(lambda x: dict(os.environ)['PYTHONPATH']).first()"
   ],
   "outputs": [
    {
     "output_type": "execute_result",
     "data": {
      "text/plain": [
       "'/opt/mapr/spark/spark-3.1.2//python/lib/pyspark.zip:/opt/mapr/spark/spark-3.1.2//python/lib/py4j-0.10.9-src.zip:/tmp/hadoop-mapr/nm-local-dir/usercache/julia_pchelkina/filecache/19/__spark_libs__2835295945260599284.zip/spark-core_2.12-3.1.2.0-eep-800.jar:/home/julia_pchelkina/.local/lib/python3.9/site-packages:/tmp/hadoop-mapr/nm-local-dir/usercache/julia_pchelkina/appcache/application_1637674522791_0062/container_e08_1637674522791_0062_01_000002/pyspark.zip:/tmp/hadoop-mapr/nm-local-dir/usercache/julia_pchelkina/appcache/application_1637674522791_0062/container_e08_1637674522791_0062_01_000002/py4j-0.10.9-src.zip'"
      ]
     },
     "metadata": {},
     "execution_count": 7
    }
   ],
   "metadata": {}
  },
  {
   "cell_type": "code",
   "execution_count": 8,
   "source": [
    "sc.parallelize([1,2,3,4,5,6]).map(lambda x: (os.environ['NM_HOST'], [12, 3])).first()"
   ],
   "outputs": [
    {
     "output_type": "execute_result",
     "data": {
      "text/plain": [
       "('n3.maapr.xyz', [12, 3])"
      ]
     },
     "metadata": {},
     "execution_count": 8
    }
   ],
   "metadata": {}
  },
  {
   "cell_type": "code",
   "execution_count": 9,
   "source": [
    "!which python"
   ],
   "outputs": [
    {
     "output_type": "stream",
     "name": "stdout",
     "text": [
      "/opt/miniconda3/bin//python\n"
     ]
    }
   ],
   "metadata": {}
  },
  {
   "cell_type": "markdown",
   "source": [
    "#### Загрузка и предобработка данных"
   ],
   "metadata": {}
  },
  {
   "cell_type": "code",
   "execution_count": 10,
   "source": [
    "tripData = sc.textFile(\"trips.csv\")\r\n",
    "stationData = sc.textFile(\"stations.csv\")"
   ],
   "outputs": [],
   "metadata": {}
  },
  {
   "cell_type": "code",
   "execution_count": 40,
   "source": [
    "# определяем первую строку в данных\r\n",
    "tripsHeader = tripData.first()\r\n",
    "stationsHeader = stationData.first()\r\n",
    "\r\n",
    "# фильтруем данные на основе заданного условия (убираем заголовки (первую строку)\r\n",
    "trips = tripData.filter(lambda row: row != tripsHeader)\r\n",
    "stations = stationData.filter(lambda row: row != stationsHeader)\r\n",
    "\r\n",
    "# разбиваем строки на \"слова\", в качестве разделителя выступает \",\"\r\n",
    "trips_data = trips.map(lambda x: x.split(','))\r\n",
    "stations_data = stations.map(lambda x: x.split(','))\r\n",
    "\r\n",
    "# значения первой строки - заголовки\r\n",
    "trip_list = list(enumerate(tripsHeader.split(\",\")))\r\n",
    "station_list = list(enumerate(stationsHeader.split(\",\")))\r\n"
   ],
   "outputs": [],
   "metadata": {}
  },
  {
   "cell_type": "code",
   "execution_count": 42,
   "source": [
    "# выводим первые 5 строк данных без заголовка\r\n",
    "trips.take(5)"
   ],
   "outputs": [
    {
     "output_type": "execute_result",
     "data": {
      "text/plain": [
       "['4576,63,8/29/2013 14:13,South Van Ness at Market,66,8/29/2013 14:14,South Van Ness at Market,66,520,Subscriber,94127',\n",
       " '4607,70,8/29/2013 14:42,San Jose City Hall,10,8/29/2013 14:43,San Jose City Hall,10,661,Subscriber,95138',\n",
       " '4130,71,8/29/2013 10:16,Mountain View City Hall,27,8/29/2013 10:17,Mountain View City Hall,27,48,Subscriber,97214',\n",
       " '4251,77,8/29/2013 11:29,San Jose City Hall,10,8/29/2013 11:30,San Jose City Hall,10,26,Subscriber,95060',\n",
       " '4299,83,8/29/2013 12:02,South Van Ness at Market,66,8/29/2013 12:04,Market at 10th,67,319,Subscriber,94103']"
      ]
     },
     "metadata": {},
     "execution_count": 42
    }
   ],
   "metadata": {}
  },
  {
   "cell_type": "code",
   "execution_count": 43,
   "source": [
    "stations.take(5)"
   ],
   "outputs": [
    {
     "output_type": "execute_result",
     "data": {
      "text/plain": [
       "['2,San Jose Diridon Caltrain Station,37.329732,-121.90178200000001,27,San Jose,8/6/2013',\n",
       " '3,San Jose Civic Center,37.330698,-121.888979,15,San Jose,8/5/2013',\n",
       " '4,Santa Clara at Almaden,37.333988,-121.894902,11,San Jose,8/6/2013',\n",
       " '5,Adobe on Almaden,37.331415,-121.8932,19,San Jose,8/5/2013',\n",
       " '6,San Pedro Square,37.336721000000004,-121.894074,15,San Jose,8/7/2013']"
      ]
     },
     "metadata": {},
     "execution_count": 43
    }
   ],
   "metadata": {}
  },
  {
   "cell_type": "code",
   "execution_count": 44,
   "source": [
    "# выводим первые 2 строки данных, разбитые на \"слова\"\r\n",
    "trips_data.take(2)  "
   ],
   "outputs": [
    {
     "output_type": "execute_result",
     "data": {
      "text/plain": [
       "[['4576',\n",
       "  '63',\n",
       "  '8/29/2013 14:13',\n",
       "  'South Van Ness at Market',\n",
       "  '66',\n",
       "  '8/29/2013 14:14',\n",
       "  'South Van Ness at Market',\n",
       "  '66',\n",
       "  '520',\n",
       "  'Subscriber',\n",
       "  '94127'],\n",
       " ['4607',\n",
       "  '70',\n",
       "  '8/29/2013 14:42',\n",
       "  'San Jose City Hall',\n",
       "  '10',\n",
       "  '8/29/2013 14:43',\n",
       "  'San Jose City Hall',\n",
       "  '10',\n",
       "  '661',\n",
       "  'Subscriber',\n",
       "  '95138']]"
      ]
     },
     "metadata": {},
     "execution_count": 44
    }
   ],
   "metadata": {}
  },
  {
   "cell_type": "code",
   "execution_count": 45,
   "source": [
    "stations_data.take(2) "
   ],
   "outputs": [
    {
     "output_type": "execute_result",
     "data": {
      "text/plain": [
       "[['2',\n",
       "  'San Jose Diridon Caltrain Station',\n",
       "  '37.329732',\n",
       "  '-121.90178200000001',\n",
       "  '27',\n",
       "  'San Jose',\n",
       "  '8/6/2013'],\n",
       " ['3',\n",
       "  'San Jose Civic Center',\n",
       "  '37.330698',\n",
       "  '-121.888979',\n",
       "  '15',\n",
       "  'San Jose',\n",
       "  '8/5/2013']]"
      ]
     },
     "metadata": {},
     "execution_count": 45
    }
   ],
   "metadata": {}
  },
  {
   "cell_type": "code",
   "execution_count": 46,
   "source": [
    "# выводим значения первой строки - заголовки\r\n",
    "trip_list"
   ],
   "outputs": [
    {
     "output_type": "execute_result",
     "data": {
      "text/plain": [
       "[(0, 'id'),\n",
       " (1, 'duration'),\n",
       " (2, 'start_date'),\n",
       " (3, 'start_station_name'),\n",
       " (4, 'start_station_id'),\n",
       " (5, 'end_date'),\n",
       " (6, 'end_station_name'),\n",
       " (7, 'end_station_id'),\n",
       " (8, 'bike_id'),\n",
       " (9, 'subscription_type'),\n",
       " (10, 'zip_code')]"
      ]
     },
     "metadata": {},
     "execution_count": 46
    }
   ],
   "metadata": {}
  },
  {
   "cell_type": "code",
   "execution_count": 47,
   "source": [
    "station_list"
   ],
   "outputs": [
    {
     "output_type": "execute_result",
     "data": {
      "text/plain": [
       "[(0, 'id'),\n",
       " (1, 'name'),\n",
       " (2, 'lat'),\n",
       " (3, 'long'),\n",
       " (4, 'dock_count'),\n",
       " (5, 'city'),\n",
       " (6, 'installation_date')]"
      ]
     },
     "metadata": {},
     "execution_count": 47
    }
   ],
   "metadata": {}
  },
  {
   "cell_type": "code",
   "execution_count": 48,
   "source": [
    "# создаем модель данных для Trips\r\n",
    "def initTrip(trips):\r\n",
    "    class Trip(NamedTuple):\r\n",
    "        trip_id: int\r\n",
    "        duration: int\r\n",
    "        start_date: datetime\r\n",
    "        start_station_name: str\r\n",
    "        start_station_id: int\r\n",
    "        end_date: datetime\r\n",
    "        end_station_name: str\r\n",
    "        end_station_id: int\r\n",
    "        bike_id: int\r\n",
    "        subscription_type: str\r\n",
    "        zip_code: str\r\n",
    "        \r\n",
    "    for trip in trips:\r\n",
    "        try:\r\n",
    "            yield Trip(                             \r\n",
    "             trip_id = int(trip[0]),\r\n",
    "             duration = int(trip[1]),\r\n",
    "             start_date = datetime.strptime(trip[2], '%m/%d/%Y %H:%M'),\r\n",
    "             start_station_name = trip[3],\r\n",
    "             start_station_id = int(trip[4]),\r\n",
    "             end_date = datetime.strptime(trip[5], '%m/%d/%Y %H:%M'),\r\n",
    "             end_station_name = trip[6],\r\n",
    "             end_station_id = trip[7],\r\n",
    "             bike_id = int(trip[8]),\r\n",
    "             subscription_type = trip[9],\r\n",
    "             zip_code = trip[10]\r\n",
    "            ) \r\n",
    "        except:\r\n",
    "            pass"
   ],
   "outputs": [],
   "metadata": {}
  },
  {
   "cell_type": "code",
   "execution_count": 49,
   "source": [
    "# создаем модель данных для Stations\r\n",
    "def initStation(stations):\r\n",
    "    class Station(NamedTuple):\r\n",
    "        station_id: int\r\n",
    "        name: str\r\n",
    "        lat: float\r\n",
    "        long: float\r\n",
    "        dockcount: int\r\n",
    "        landmark: str\r\n",
    "        installation: str\r\n",
    "    \r\n",
    "    for station in stations:\r\n",
    "        yield Station(\r\n",
    "            station_id = int(station[0]),\r\n",
    "            name = station[1],\r\n",
    "            lat = float(station[2]),\r\n",
    "            long = float(station[3]),\r\n",
    "            dockcount = int(station[4]),\r\n",
    "            landmark = station[5],\r\n",
    "            installation = datetime.strptime(station[6], '%m/%d/%Y')\r\n",
    "        )"
   ],
   "outputs": [],
   "metadata": {}
  },
  {
   "cell_type": "code",
   "execution_count": 50,
   "source": [
    "# применяем модель к нашим данным\r\n",
    "tripsInternal = trips_data.mapPartitions(initTrip)\r\n",
    "stationsInternal = stations_data.mapPartitions(initStation)"
   ],
   "outputs": [],
   "metadata": {}
  },
  {
   "cell_type": "code",
   "execution_count": 51,
   "source": [
    "# выводим первые n строк\r\n",
    "tripsInternal.take(2)"
   ],
   "outputs": [
    {
     "output_type": "execute_result",
     "data": {
      "text/plain": [
       "[Trip(trip_id=4576, duration=63, start_date=datetime.datetime(2013, 8, 29, 14, 13), start_station_name='South Van Ness at Market', start_station_id=66, end_date=datetime.datetime(2013, 8, 29, 14, 14), end_station_name='South Van Ness at Market', end_station_id='66', bike_id=520, subscription_type='Subscriber', zip_code='94127'),\n",
       " Trip(trip_id=4607, duration=70, start_date=datetime.datetime(2013, 8, 29, 14, 42), start_station_name='San Jose City Hall', start_station_id=10, end_date=datetime.datetime(2013, 8, 29, 14, 43), end_station_name='San Jose City Hall', end_station_id='10', bike_id=661, subscription_type='Subscriber', zip_code='95138')]"
      ]
     },
     "metadata": {},
     "execution_count": 51
    }
   ],
   "metadata": {}
  },
  {
   "cell_type": "code",
   "execution_count": 52,
   "source": [
    "stationsInternal.take(2)"
   ],
   "outputs": [
    {
     "output_type": "execute_result",
     "data": {
      "text/plain": [
       "[Station(station_id=2, name='San Jose Diridon Caltrain Station', lat=37.329732, long=-121.90178200000001, dockcount=27, landmark='San Jose', installation=datetime.datetime(2013, 8, 6, 0, 0)),\n",
       " Station(station_id=3, name='San Jose Civic Center', lat=37.330698, long=-121.888979, dockcount=15, landmark='San Jose', installation=datetime.datetime(2013, 8, 5, 0, 0))]"
      ]
     },
     "metadata": {},
     "execution_count": 52
    }
   ],
   "metadata": {}
  },
  {
   "cell_type": "code",
   "execution_count": 53,
   "source": [
    "tripsInternal.first()"
   ],
   "outputs": [
    {
     "output_type": "execute_result",
     "data": {
      "text/plain": [
       "Trip(trip_id=4576, duration=63, start_date=datetime.datetime(2013, 8, 29, 14, 13), start_station_name='South Van Ness at Market', start_station_id=66, end_date=datetime.datetime(2013, 8, 29, 14, 14), end_station_name='South Van Ness at Market', end_station_id='66', bike_id=520, subscription_type='Subscriber', zip_code='94127')"
      ]
     },
     "metadata": {},
     "execution_count": 53
    }
   ],
   "metadata": {}
  },
  {
   "cell_type": "code",
   "execution_count": 54,
   "source": [
    "stationsInternal.first()"
   ],
   "outputs": [
    {
     "output_type": "execute_result",
     "data": {
      "text/plain": [
       "Station(station_id=2, name='San Jose Diridon Caltrain Station', lat=37.329732, long=-121.90178200000001, dockcount=27, landmark='San Jose', installation=datetime.datetime(2013, 8, 6, 0, 0))"
      ]
     },
     "metadata": {},
     "execution_count": 54
    }
   ],
   "metadata": {}
  },
  {
   "cell_type": "markdown",
   "source": [
    "#### Поиск велосипеда с максимальным временем пробега"
   ],
   "metadata": {}
  },
  {
   "cell_type": "markdown",
   "source": [
    "нам нужна позиция \"duration\" - продолжительность"
   ],
   "metadata": {}
  },
  {
   "cell_type": "code",
   "execution_count": 55,
   "source": [
    "# список пар ключ (номер id) - значение (данные в строке с этим id)\r\n",
    "tripsIndexed = trips_data.keyBy(lambda trip: trip[0])\r\n",
    "tripsIndexed.take(2)"
   ],
   "outputs": [
    {
     "output_type": "execute_result",
     "data": {
      "text/plain": [
       "[('4576',\n",
       "  ['4576',\n",
       "   '63',\n",
       "   '8/29/2013 14:13',\n",
       "   'South Van Ness at Market',\n",
       "   '66',\n",
       "   '8/29/2013 14:14',\n",
       "   'South Van Ness at Market',\n",
       "   '66',\n",
       "   '520',\n",
       "   'Subscriber',\n",
       "   '94127']),\n",
       " ('4607',\n",
       "  ['4607',\n",
       "   '70',\n",
       "   '8/29/2013 14:42',\n",
       "   'San Jose City Hall',\n",
       "   '10',\n",
       "   '8/29/2013 14:43',\n",
       "   'San Jose City Hall',\n",
       "   '10',\n",
       "   '661',\n",
       "   'Subscriber',\n",
       "   '95138'])]"
      ]
     },
     "metadata": {},
     "execution_count": 55
    }
   ],
   "metadata": {}
  },
  {
   "cell_type": "code",
   "execution_count": 57,
   "source": [
    "# по id велосипеда\r\n",
    "trip_num = tripsInternal.keyBy(lambda x: x.bike_id)\r\n",
    "trip_num.first()"
   ],
   "outputs": [
    {
     "output_type": "execute_result",
     "data": {
      "text/plain": [
       "(520,\n",
       " Trip(trip_id=4576, duration=63, start_date=datetime.datetime(2013, 8, 29, 14, 13), start_station_name='South Van Ness at Market', start_station_id=66, end_date=datetime.datetime(2013, 8, 29, 14, 14), end_station_name='South Van Ness at Market', end_station_id='66', bike_id=520, subscription_type='Subscriber', zip_code='94127'))"
      ]
     },
     "metadata": {},
     "execution_count": 57
    }
   ],
   "metadata": {}
  },
  {
   "cell_type": "code",
   "execution_count": 58,
   "source": [
    "# группируем данные по выбранному столбцу и выполняем различные операции\r\n",
    "group_trip_num = trip_num\\\r\n",
    "                 .mapValues(lambda x: x.duration/60/60)\\\r\n",
    "                 .reduceByKey(lambda d1, d2: d1 + d2)\r\n"
   ],
   "outputs": [],
   "metadata": {}
  },
  {
   "cell_type": "code",
   "execution_count": 60,
   "source": [
    "%%time\r\n",
    "\r\n",
    "# находим наибольшее расстояние, замеряем время обработки\r\n",
    "max_duration = group_trip_num.reduce(lambda d1, d2: d1 if d1[1] > d2[1] else d2)\r\n"
   ],
   "outputs": [
    {
     "output_type": "stream",
     "name": "stdout",
     "text": [
      "CPU times: user 10.5 ms, sys: 1.36 ms, total: 11.9 ms\n",
      "Wall time: 209 ms\n"
     ]
    }
   ],
   "metadata": {}
  },
  {
   "cell_type": "code",
   "execution_count": 29,
   "source": [
    "# max_duration"
   ],
   "outputs": [],
   "metadata": {}
  },
  {
   "cell_type": "code",
   "execution_count": 61,
   "source": [
    "max_time = int(max_duration[1]*60*60)\r\n",
    "\r\n",
    "print('Maximum duration has bike with id = ', max_duration[0])\r\n"
   ],
   "outputs": [
    {
     "output_type": "stream",
     "name": "stdout",
     "text": [
      "Maximum duration has bike with id =  535\n"
     ]
    }
   ],
   "metadata": {}
  },
  {
   "cell_type": "code",
   "execution_count": null,
   "source": [],
   "outputs": [],
   "metadata": {}
  },
  {
   "cell_type": "code",
   "execution_count": 62,
   "source": [
    "# Делаем то же самое в Pandas для проверки\r\n",
    "df = pd.read_csv('trips.csv')\r\n",
    "m1 = str(df['duration'].max())\r\n",
    "# Находим еще одно наибольшее значение\r\n",
    "df_new = df.loc[df['duration'] != int(m1)]\r\n",
    "m2 = df_new['duration'].max()\r\n",
    "\r\n",
    "print('maximum duration:', m1, m2)"
   ],
   "outputs": [
    {
     "output_type": "stream",
     "name": "stdout",
     "text": [
      "maximum duration: 17270400 2137000\n"
     ]
    }
   ],
   "metadata": {}
  },
  {
   "cell_type": "code",
   "execution_count": 63,
   "source": [
    "# выводим данные по двум самым длительным поездкам:\r\n",
    "df_max_duration = df.query('duration == 17270400 or duration == 2137000')\r\n",
    "df_max_duration.head()"
   ],
   "outputs": [
    {
     "output_type": "execute_result",
     "data": {
      "text/html": [
       "<div>\n",
       "<style scoped>\n",
       "    .dataframe tbody tr th:only-of-type {\n",
       "        vertical-align: middle;\n",
       "    }\n",
       "\n",
       "    .dataframe tbody tr th {\n",
       "        vertical-align: top;\n",
       "    }\n",
       "\n",
       "    .dataframe thead th {\n",
       "        text-align: right;\n",
       "    }\n",
       "</style>\n",
       "<table border=\"1\" class=\"dataframe\">\n",
       "  <thead>\n",
       "    <tr style=\"text-align: right;\">\n",
       "      <th></th>\n",
       "      <th>id</th>\n",
       "      <th>duration</th>\n",
       "      <th>start_date</th>\n",
       "      <th>start_station_name</th>\n",
       "      <th>start_station_id</th>\n",
       "      <th>end_date</th>\n",
       "      <th>end_station_name</th>\n",
       "      <th>end_station_id</th>\n",
       "      <th>bike_id</th>\n",
       "      <th>subscription_type</th>\n",
       "      <th>zip_code</th>\n",
       "    </tr>\n",
       "  </thead>\n",
       "  <tbody>\n",
       "    <tr>\n",
       "      <th>382718</th>\n",
       "      <td>825850</td>\n",
       "      <td>2137000</td>\n",
       "      <td>6/28/2015 21:50</td>\n",
       "      <td>Market at Sansome</td>\n",
       "      <td>77</td>\n",
       "      <td>7/23/2015 15:27</td>\n",
       "      <td>Yerba Buena Center of the Arts (3rd @ Howard)</td>\n",
       "      <td>68</td>\n",
       "      <td>466</td>\n",
       "      <td>Customer</td>\n",
       "      <td>97213</td>\n",
       "    </tr>\n",
       "    <tr>\n",
       "      <th>573566</th>\n",
       "      <td>568474</td>\n",
       "      <td>17270400</td>\n",
       "      <td>12/6/2014 21:59</td>\n",
       "      <td>South Van Ness at Market</td>\n",
       "      <td>66</td>\n",
       "      <td>6/24/2015 20:18</td>\n",
       "      <td>2nd at Folsom</td>\n",
       "      <td>62</td>\n",
       "      <td>535</td>\n",
       "      <td>Customer</td>\n",
       "      <td>95531</td>\n",
       "    </tr>\n",
       "  </tbody>\n",
       "</table>\n",
       "</div>"
      ],
      "text/plain": [
       "            id  duration       start_date        start_station_name  \\\n",
       "382718  825850   2137000  6/28/2015 21:50         Market at Sansome   \n",
       "573566  568474  17270400  12/6/2014 21:59  South Van Ness at Market   \n",
       "\n",
       "        start_station_id         end_date  \\\n",
       "382718                77  7/23/2015 15:27   \n",
       "573566                66  6/24/2015 20:18   \n",
       "\n",
       "                                     end_station_name  end_station_id  \\\n",
       "382718  Yerba Buena Center of the Arts (3rd @ Howard)              68   \n",
       "573566                                  2nd at Folsom              62   \n",
       "\n",
       "        bike_id subscription_type zip_code  \n",
       "382718      466          Customer    97213  \n",
       "573566      535          Customer    95531  "
      ]
     },
     "metadata": {},
     "execution_count": 63
    }
   ],
   "metadata": {}
  },
  {
   "cell_type": "markdown",
   "source": [
    "Вывод: результаты совпали. время обработки в первом случае меньше. Наибольший пробег имеет велосипед с номером id = 535"
   ],
   "metadata": {}
  },
  {
   "cell_type": "markdown",
   "source": [
    "### Поиск наибольшего геодезического расстояния между станциями"
   ],
   "metadata": {}
  },
  {
   "cell_type": "markdown",
   "source": [
    "Евклидова метрика не подходит, т.к. предназначена для вычисления расстояния на плоскости, поэтому будем использовать формулу для поиска расстояния между точками на сфере.\r\n",
    "\r\n",
    "Будем использовать версинус и гаверсинус:\r\n",
    "\r\n",
    "versin(φ) = 2 * (sin(φ/2))^2\r\n",
    "\r\n",
    "hav(φ) = versin(φ) / 2 = (sin(φ/2))^2\r\n",
    "\r\n",
    "Гаверсинус центрального угла между любыми двумя точками на сфере вычисляется по формуле:\r\n",
    "\r\n",
    "hav(d/r) = hav(φ2 - φ1) + cos(φ1)*cos(φ2)*hav(λ2 - λ1)\r\n",
    "- d - это центральный угол между двумя точками, лежащими на большом круге\r\n",
    "- r - радиус сферы\r\n",
    "- φ1, φ2 - широта первой и второй точек в радианах\r\n",
    "- λ1, λ2 - долгота первой и второй точек в радианах\r\n",
    "\r\n",
    "Тогда \r\n",
    "\r\n",
    "d = 2r*arcsin(sqrt(hav(φ2 - φ1) + cos(φ1)*cos(φ2)*hav(λ2 - λ1))), где\r\n",
    "\r\n",
    "hav(φ2 - φ1) = (sin((φ2 - φ1)/2))^2\r\n",
    "\r\n",
    "hav(λ2 - λ1) = (sin((λ2 - λ1)/2))^2\r\n",
    "\r\n",
    "\r\n",
    "Средний радиус Земли R = 6371210 м или 6371 км\r\n",
    "\r\n",
    "Экваториальный радиус Земли RЭ = 6378,245 м.\r\n",
    "\r\n",
    "Полярный радиус Земли RП = 6356,830 м.\r\n",
    "\r\n",
    "Длина дуги меридиана (дуги экватора, дуги окружности большого круга) в 1°, 1′ и 1″ равна соответственно: 111 197 м (111,2 км), 1852 м (1,852 км) и 30,9 м.\r\n"
   ],
   "metadata": {}
  },
  {
   "cell_type": "code",
   "execution_count": 78,
   "source": [
    "from math import pi, radians, cos, sin, asin, sqrt, atan, degrees\r\n",
    "from enum import Enum\r\n",
    "\r\n",
    "# средний радиус земли\r\n",
    "Rad_mean = 6371210"
   ],
   "outputs": [],
   "metadata": {}
  },
  {
   "cell_type": "code",
   "execution_count": 85,
   "source": [
    "# получаем 3 кортежа: 1 - названия двух станций, 2 и 3 - данные по этим станциям\r\n",
    "distance = stationsInternal.cartesian(stationsInternal)\\\r\n",
    "                         .filter(lambda x: x[0].station_id != x[1].station_id)\\\r\n",
    "                         .keyBy(lambda x: (x[0].name, x[1].name))"
   ],
   "outputs": [],
   "metadata": {}
  },
  {
   "cell_type": "code",
   "execution_count": 86,
   "source": [
    "distance.take(2)"
   ],
   "outputs": [
    {
     "output_type": "execute_result",
     "data": {
      "text/plain": [
       "[(('San Jose Diridon Caltrain Station', 'San Jose Civic Center'),\n",
       "  (Station(station_id=2, name='San Jose Diridon Caltrain Station', lat=37.329732, long=-121.90178200000001, dockcount=27, landmark='San Jose', installation=datetime.datetime(2013, 8, 6, 0, 0)),\n",
       "   Station(station_id=3, name='San Jose Civic Center', lat=37.330698, long=-121.888979, dockcount=15, landmark='San Jose', installation=datetime.datetime(2013, 8, 5, 0, 0)))),\n",
       " (('San Jose Diridon Caltrain Station', 'Santa Clara at Almaden'),\n",
       "  (Station(station_id=2, name='San Jose Diridon Caltrain Station', lat=37.329732, long=-121.90178200000001, dockcount=27, landmark='San Jose', installation=datetime.datetime(2013, 8, 6, 0, 0)),\n",
       "   Station(station_id=4, name='Santa Clara at Almaden', lat=37.333988, long=-121.894902, dockcount=11, landmark='San Jose', installation=datetime.datetime(2013, 8, 6, 0, 0))))]"
      ]
     },
     "metadata": {},
     "execution_count": 86
    }
   ],
   "metadata": {}
  },
  {
   "cell_type": "code",
   "execution_count": 87,
   "source": [
    "def geodetic_distance(lat1, long1, lat2, long2):\r\n",
    "        \r\n",
    "    # перевод в радианы\r\n",
    "    lat_1 = radians(lat1)\r\n",
    "    long_1 = radians(long1)\r\n",
    "    lat_2 = radians(lat2)\r\n",
    "    long_2 = radians(long2)\r\n",
    "    \r\n",
    "    # разность между широтой и долготой\r\n",
    "    lat_1_2 = lat_2 - lat_1\r\n",
    "    long_1_2 = long_2 - long_1\r\n",
    "    \r\n",
    "    # гаверсинусы\r\n",
    "    hav_lat = (sin(lat_1_2/2))**2\r\n",
    "    hav_long = (sin(long_1_2/2))**2\r\n",
    "    \r\n",
    "    # получаем расстояние по формуле\r\n",
    "    d = 2*Rad_mean*asin(sqrt(hav_lat + cos(lat_1)*cos(lat_2)*hav_long))\r\n",
    "    \r\n",
    "    return d"
   ],
   "outputs": [],
   "metadata": {}
  },
  {
   "cell_type": "code",
   "execution_count": 88,
   "source": [
    "# к данным о каждой паре станций дописываем расстояние между ними\r\n",
    "distance_pair = distance.mapValues(lambda x: [x[0], x[1], geodetic_distance(x[0].lat, x[0].long, x[1].lat, x[1].long)])                                        "
   ],
   "outputs": [],
   "metadata": {}
  },
  {
   "cell_type": "code",
   "execution_count": 89,
   "source": [
    "distance_pair.take(3)"
   ],
   "outputs": [
    {
     "output_type": "execute_result",
     "data": {
      "text/plain": [
       "[(('San Jose Diridon Caltrain Station', 'San Jose Civic Center'),\n",
       "  [Station(station_id=2, name='San Jose Diridon Caltrain Station', lat=37.329732, long=-121.90178200000001, dockcount=27, landmark='San Jose', installation=datetime.datetime(2013, 8, 6, 0, 0)),\n",
       "   Station(station_id=3, name='San Jose Civic Center', lat=37.330698, long=-121.888979, dockcount=15, landmark='San Jose', installation=datetime.datetime(2013, 8, 5, 0, 0)),\n",
       "   1137.125987953115]),\n",
       " (('San Jose Diridon Caltrain Station', 'Santa Clara at Almaden'),\n",
       "  [Station(station_id=2, name='San Jose Diridon Caltrain Station', lat=37.329732, long=-121.90178200000001, dockcount=27, landmark='San Jose', installation=datetime.datetime(2013, 8, 6, 0, 0)),\n",
       "   Station(station_id=4, name='Santa Clara at Almaden', lat=37.333988, long=-121.894902, dockcount=11, landmark='San Jose', installation=datetime.datetime(2013, 8, 6, 0, 0)),\n",
       "   770.7299940340974]),\n",
       " (('San Jose Diridon Caltrain Station', 'Adobe on Almaden'),\n",
       "  [Station(station_id=2, name='San Jose Diridon Caltrain Station', lat=37.329732, long=-121.90178200000001, dockcount=27, landmark='San Jose', installation=datetime.datetime(2013, 8, 6, 0, 0)),\n",
       "   Station(station_id=5, name='Adobe on Almaden', lat=37.331415, long=-121.8932, dockcount=19, landmark='San Jose', installation=datetime.datetime(2013, 8, 5, 0, 0)),\n",
       "   781.5541113655147])]"
      ]
     },
     "metadata": {},
     "execution_count": 89
    }
   ],
   "metadata": {}
  },
  {
   "cell_type": "code",
   "execution_count": 90,
   "source": [
    "%%time\r\n",
    "\r\n",
    "# находим максимальный элемент среди всех расстояний , замеряем время обработки\r\n",
    "max_distance = distance_pair.reduce(lambda d1, d2: d1 if d1[1] > d2[1] else d2)\r\n"
   ],
   "outputs": [
    {
     "output_type": "stream",
     "name": "stdout",
     "text": [
      "CPU times: user 10.9 ms, sys: 5.25 ms, total: 16.2 ms\n",
      "Wall time: 835 ms\n"
     ]
    }
   ],
   "metadata": {}
  },
  {
   "cell_type": "code",
   "execution_count": 102,
   "source": [
    "print('Maximum geodetic distance between stations: ', max_distance[0])\r\n",
    "print('distance = ', max_distance[1][2])"
   ],
   "outputs": [
    {
     "output_type": "stream",
     "name": "stdout",
     "text": [
      "Maximum geodetic distance between stations:  ('Ryland Park', 'Mezes Park')\n",
      "distance =  34319.03961961622\n"
     ]
    }
   ],
   "metadata": {}
  },
  {
   "cell_type": "markdown",
   "source": [
    "#### Поиск пути велосипеда с максимальным временем пробега через станции."
   ],
   "metadata": {}
  },
  {
   "cell_type": "code",
   "execution_count": 112,
   "source": [
    "trip_list"
   ],
   "outputs": [
    {
     "output_type": "execute_result",
     "data": {
      "text/plain": [
       "[(0, 'id'),\n",
       " (1, 'duration'),\n",
       " (2, 'start_date'),\n",
       " (3, 'start_station_name'),\n",
       " (4, 'start_station_id'),\n",
       " (5, 'end_date'),\n",
       " (6, 'end_station_name'),\n",
       " (7, 'end_station_id'),\n",
       " (8, 'bike_id'),\n",
       " (9, 'subscription_type'),\n",
       " (10, 'zip_code')]"
      ]
     },
     "metadata": {},
     "execution_count": 112
    }
   ],
   "metadata": {}
  },
  {
   "cell_type": "code",
   "execution_count": 105,
   "source": [
    "# уже найденный bike_id \r\n",
    "print('Maximum duration has bike with id = ', max_duration[0])"
   ],
   "outputs": [
    {
     "output_type": "stream",
     "name": "stdout",
     "text": [
      "Maximum duration has bike with id =  535\n"
     ]
    }
   ],
   "metadata": {}
  },
  {
   "cell_type": "code",
   "execution_count": 118,
   "source": [
    "# все данные по этому bike_id\r\n",
    "bike_data = tripsInternal.filter(lambda x: x.bike_id == max_duration[0])\r\n",
    "bike_data.take(3)"
   ],
   "outputs": [
    {
     "output_type": "execute_result",
     "data": {
      "text/plain": [
       "[Trip(trip_id=5067, duration=423, start_date=datetime.datetime(2013, 8, 29, 21, 38), start_station_name='San Francisco Caltrain (Townsend at 4th)', start_station_id=70, end_date=datetime.datetime(2013, 8, 29, 21, 45), end_station_name='San Francisco Caltrain 2 (330 Townsend)', end_station_id='69', bike_id=535, subscription_type='Subscriber', zip_code='94133'),\n",
       " Trip(trip_id=4966, duration=1245, start_date=datetime.datetime(2013, 8, 29, 19, 32), start_station_name='Post at Kearney', start_station_id=47, end_date=datetime.datetime(2013, 8, 29, 19, 53), end_station_name='San Francisco Caltrain (Townsend at 4th)', end_station_id='70', bike_id=535, subscription_type='Customer', zip_code='94123'),\n",
       " Trip(trip_id=5199, duration=498, start_date=datetime.datetime(2013, 8, 30, 9, 10), start_station_name='Market at Sansome', start_station_id=77, end_date=datetime.datetime(2013, 8, 30, 9, 19), end_station_name='2nd at South Park', end_station_id='64', bike_id=535, subscription_type='Customer', zip_code='94105')]"
      ]
     },
     "metadata": {},
     "execution_count": 118
    }
   ],
   "metadata": {}
  },
  {
   "cell_type": "code",
   "execution_count": 119,
   "source": [
    "# сортируем \r\n",
    "bike_data_sort = bike_data.sortBy(lambda x: x.start_date)\r\n",
    "bike_data_sort.take(3)"
   ],
   "outputs": [
    {
     "output_type": "execute_result",
     "data": {
      "text/plain": [
       "[Trip(trip_id=4966, duration=1245, start_date=datetime.datetime(2013, 8, 29, 19, 32), start_station_name='Post at Kearney', start_station_id=47, end_date=datetime.datetime(2013, 8, 29, 19, 53), end_station_name='San Francisco Caltrain (Townsend at 4th)', end_station_id='70', bike_id=535, subscription_type='Customer', zip_code='94123'),\n",
       " Trip(trip_id=5067, duration=423, start_date=datetime.datetime(2013, 8, 29, 21, 38), start_station_name='San Francisco Caltrain (Townsend at 4th)', start_station_id=70, end_date=datetime.datetime(2013, 8, 29, 21, 45), end_station_name='San Francisco Caltrain 2 (330 Townsend)', end_station_id='69', bike_id=535, subscription_type='Subscriber', zip_code='94133'),\n",
       " Trip(trip_id=5179, duration=842, start_date=datetime.datetime(2013, 8, 30, 8, 40), start_station_name='San Francisco Caltrain 2 (330 Townsend)', start_station_id=69, end_date=datetime.datetime(2013, 8, 30, 8, 54), end_station_name='Market at Sansome', end_station_id='77', bike_id=535, subscription_type='Customer', zip_code='94158')]"
      ]
     },
     "metadata": {},
     "execution_count": 119
    }
   ],
   "metadata": {}
  },
  {
   "cell_type": "code",
   "execution_count": 134,
   "source": [
    "# путь (промежутки)\r\n",
    "bike_way = bike_data_sort.map(lambda x: (x.start_station_name, x.end_station_name))\r\n",
    "#bike_way1.saveAsTextFile('bike_way.txt')\r\n",
    "bike_way.take(10)"
   ],
   "outputs": [
    {
     "output_type": "execute_result",
     "data": {
      "text/plain": [
       "[('Post at Kearney', 'San Francisco Caltrain (Townsend at 4th)'),\n",
       " ('San Francisco Caltrain (Townsend at 4th)',\n",
       "  'San Francisco Caltrain 2 (330 Townsend)'),\n",
       " ('San Francisco Caltrain 2 (330 Townsend)', 'Market at Sansome'),\n",
       " ('Market at Sansome', '2nd at South Park'),\n",
       " ('2nd at Townsend', 'Davis at Jackson'),\n",
       " ('San Francisco City Hall', 'Civic Center BART (7th at Market)'),\n",
       " ('Civic Center BART (7th at Market)', 'Post at Kearney'),\n",
       " ('Post at Kearney', 'Embarcadero at Sansome'),\n",
       " ('Embarcadero at Sansome', 'Washington at Kearney'),\n",
       " ('Washington at Kearney', 'Market at Sansome')]"
      ]
     },
     "metadata": {},
     "execution_count": 134
    }
   ],
   "metadata": {}
  },
  {
   "cell_type": "code",
   "execution_count": 135,
   "source": [
    "# станции поочередности\r\n",
    "bike_way1 = bike_way.map(lambda x: x[0])\r\n",
    "#bike_way1.saveAsTextFile('bike_way1.txt')\r\n",
    "bike_way1.take(10)"
   ],
   "outputs": [
    {
     "output_type": "execute_result",
     "data": {
      "text/plain": [
       "['Post at Kearney',\n",
       " 'San Francisco Caltrain (Townsend at 4th)',\n",
       " 'San Francisco Caltrain 2 (330 Townsend)',\n",
       " 'Market at Sansome',\n",
       " '2nd at Townsend',\n",
       " 'San Francisco City Hall',\n",
       " 'Civic Center BART (7th at Market)',\n",
       " 'Post at Kearney',\n",
       " 'Embarcadero at Sansome',\n",
       " 'Washington at Kearney']"
      ]
     },
     "metadata": {},
     "execution_count": 135
    }
   ],
   "metadata": {}
  },
  {
   "cell_type": "markdown",
   "source": [
    "#### Поиск количества велосипедов в системе."
   ],
   "metadata": {}
  },
  {
   "cell_type": "code",
   "execution_count": 136,
   "source": [
    "trip_list"
   ],
   "outputs": [
    {
     "output_type": "execute_result",
     "data": {
      "text/plain": [
       "[(0, 'id'),\n",
       " (1, 'duration'),\n",
       " (2, 'start_date'),\n",
       " (3, 'start_station_name'),\n",
       " (4, 'start_station_id'),\n",
       " (5, 'end_date'),\n",
       " (6, 'end_station_name'),\n",
       " (7, 'end_station_id'),\n",
       " (8, 'bike_id'),\n",
       " (9, 'subscription_type'),\n",
       " (10, 'zip_code')]"
      ]
     },
     "metadata": {},
     "execution_count": 136
    }
   ],
   "metadata": {}
  },
  {
   "cell_type": "code",
   "execution_count": 137,
   "source": [
    "station_list"
   ],
   "outputs": [
    {
     "output_type": "execute_result",
     "data": {
      "text/plain": [
       "[(0, 'id'),\n",
       " (1, 'name'),\n",
       " (2, 'lat'),\n",
       " (3, 'long'),\n",
       " (4, 'dock_count'),\n",
       " (5, 'city'),\n",
       " (6, 'installation_date')]"
      ]
     },
     "metadata": {},
     "execution_count": 137
    }
   ],
   "metadata": {}
  },
  {
   "cell_type": "markdown",
   "source": [
    "Поле \"bike_id\" встречается только в trips.\n",
    "Находим количество неповторяющихся \"bike_id\""
   ],
   "metadata": {}
  },
  {
   "cell_type": "code",
   "execution_count": 152,
   "source": [
    "# Сортируем по id велосипеда\r\n",
    "bikes_num = tripsInternal.map(lambda x: x.bike_id)\r\n",
    "bikes_num.take(10)"
   ],
   "outputs": [
    {
     "output_type": "execute_result",
     "data": {
      "text/plain": [
       "[520, 661, 48, 26, 319, 527, 679, 687, 553, 107]"
      ]
     },
     "metadata": {},
     "execution_count": 152
    }
   ],
   "metadata": {}
  },
  {
   "cell_type": "code",
   "execution_count": 154,
   "source": [
    "# отобрали уникальные\r\n",
    "bike_count = bikes_num.distinct().collect()\r\n",
    "print('Kоличество велосипедов в системе = ', len(bike_count))"
   ],
   "outputs": [
    {
     "output_type": "stream",
     "name": "stdout",
     "text": [
      "Kоличество велосипедов в системе =  700\n"
     ]
    }
   ],
   "metadata": {}
  },
  {
   "cell_type": "markdown",
   "source": [
    "#### 5. Найти пользователей потративших на поездки более 3 часов."
   ],
   "metadata": {}
  },
  {
   "cell_type": "code",
   "execution_count": 166,
   "source": [
    "%%time\r\n",
    "\r\n",
    "# фильтруем по условию, считаем количество, замеряем время обработки\r\n",
    "long_trip_duration = tripsInternal.filter(lambda x: x.duration > 3*60*60).map(lambda y: y.zip_code)\r\n",
    "trip_count = long_trip_duration.count()"
   ],
   "outputs": [
    {
     "output_type": "stream",
     "name": "stdout",
     "text": [
      "CPU times: user 7.64 ms, sys: 10.3 ms, total: 18 ms\n",
      "Wall time: 14.1 s\n"
     ]
    }
   ],
   "metadata": {}
  },
  {
   "cell_type": "code",
   "execution_count": 167,
   "source": [
    "print('Kоличество пользователей потративших на поездки более 3 часов = ', trip_count)"
   ],
   "outputs": [
    {
     "output_type": "stream",
     "name": "stdout",
     "text": [
      "Kоличество пользователей потративших на поездки более 3 часов =  8322\n"
     ]
    }
   ],
   "metadata": {}
  }
 ],
 "metadata": {
  "kernelspec": {
   "display_name": "Python 3",
   "language": "python",
   "name": "python3"
  },
  "language_info": {
   "codemirror_mode": {
    "name": "ipython",
    "version": 3
   },
   "file_extension": ".py",
   "mimetype": "text/x-python",
   "name": "python",
   "nbconvert_exporter": "python",
   "pygments_lexer": "ipython3",
   "version": "3.9.5"
  }
 },
 "nbformat": 4,
 "nbformat_minor": 5
}